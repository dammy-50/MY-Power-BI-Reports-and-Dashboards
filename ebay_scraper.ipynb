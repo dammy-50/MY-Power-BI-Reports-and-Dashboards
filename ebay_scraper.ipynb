{
 "cells": [
  {
   "cell_type": "code",
   "execution_count": 19,
   "id": "6eaa4ea2-a59f-4ef7-a062-9ece273a7711",
   "metadata": {},
   "outputs": [],
   "source": [
    "import requests\n",
    "from bs4 import BeautifulSoup"
   ]
  },
  {
   "cell_type": "markdown",
   "id": "9b92a487-24fb-410a-8d60-e490a87e2f36",
   "metadata": {},
   "source": []
  },
  {
   "cell_type": "code",
   "execution_count": 20,
   "id": "af03a2aa-0bee-47a9-b7d4-eeacd6315417",
   "metadata": {},
   "outputs": [],
   "source": [
    "url = \"https://www.amazon.com/meoonley-Smartwatch-Pedometer-HeartRate-Enthusiasts/dp/B0BP99ZSX5/ref=sr_1_1_sspa?crid=148AZS8DPTHQT&keywords=mens%2Bwatch&qid=1675182427&sprefix=mens%2Bwatch%2Caps%2C427&sr=8-1-spons&spLa=ZW5jcnlwdGVkUXVhbGlmaWVyPUExTkpOSlZZMDZGTTdSJmVuY3J5cHRlZElkPUEwMDU0OTU2U0kxSDdUTE1PN1ZEJmVuY3J5cHRlZEFkSWQ9QTA1NTc5NzQxM0Y2TUVEU1hNNEFHJndpZGdldE5hbWU9c3BfYXRmJmFjdGlvbj1jbGlja1JlZGlyZWN0JmRvTm90TG9nQ2xpY2s9dHJ1ZQ&th=1\"\n",
    "response = requests.get(url)\n"
   ]
  },
  {
   "cell_type": "code",
   "execution_count": 15,
   "id": "a6d686dc-8db5-4dfb-88d2-fd8ee8714c4f",
   "metadata": {},
   "outputs": [],
   "source": [
    "soup = BeautifulSoup(response.text, \"html.parser\")\n",
    "\n"
   ]
  },
  {
   "cell_type": "code",
   "execution_count": null,
   "id": "0b81b488-6ea0-4b2e-b2df-86297d22dc0a",
   "metadata": {},
   "outputs": [],
   "source": []
  },
  {
   "cell_type": "code",
   "execution_count": 21,
   "id": "f86d8daf-c329-488f-aac4-7eac079287f8",
   "metadata": {},
   "outputs": [
    {
     "name": "stdout",
     "output_type": "stream",
     "text": [
      "Title: None\n",
      "Price: None\n",
      "Description: None\n"
     ]
    }
   ],
   "source": [
    "# Extract the title of the item\n",
    "title = soup.find(\"h1\", {\"class\": \"product-title\"})\n",
    "print(\"Title:\", title)\n",
    "\n",
    "# Extract the price of the item\n",
    "price = soup.find(\"span\", {\"class\": \"product-price\"})\n",
    "print(\"Price:\", price)\n",
    "\n",
    "# Extract the description of the item\n",
    "description = soup.find(\"div\", {\"class\": \"product-description\"})\n",
    "print(\"Description:\", description)\n"
   ]
  },
  {
   "cell_type": "code",
   "execution_count": null,
   "id": "654c362e-3276-4527-8f6b-2f0d6e1082bc",
   "metadata": {},
   "outputs": [],
   "source": []
  }
 ],
 "metadata": {
  "kernelspec": {
   "display_name": "Python 3",
   "language": "python",
   "name": "python3"
  },
  "language_info": {
   "codemirror_mode": {
    "name": "ipython",
    "version": 3
   },
   "file_extension": ".py",
   "mimetype": "text/x-python",
   "name": "python",
   "nbconvert_exporter": "python",
   "pygments_lexer": "ipython3",
   "version": "3.8.8"
  }
 },
 "nbformat": 4,
 "nbformat_minor": 5
}
